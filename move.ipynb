{
 "cells": [
  {
   "cell_type": "code",
   "execution_count": 2,
   "metadata": {},
   "outputs": [
    {
     "name": "stdout",
     "output_type": "stream",
     "text": [
      "Collecting pillow\n",
      "  Obtaining dependency information for pillow from https://files.pythonhosted.org/packages/9a/9e/4143b907be8ea0bce215f2ae4f7480027473f8b61fcedfda9d851082a5d2/pillow-10.4.0-cp310-cp310-macosx_11_0_arm64.whl.metadata\n",
      "  Downloading pillow-10.4.0-cp310-cp310-macosx_11_0_arm64.whl.metadata (9.2 kB)\n",
      "Downloading pillow-10.4.0-cp310-cp310-macosx_11_0_arm64.whl (3.4 MB)\n",
      "\u001b[2K   \u001b[90m━━━━━━━━━━━━━━━━━━━━━━━━━━━━━━━━━━━━━━━━\u001b[0m \u001b[32m3.4/3.4 MB\u001b[0m \u001b[31m24.0 MB/s\u001b[0m eta \u001b[36m0:00:00\u001b[0m00:01\u001b[0m00:01\u001b[0m\n",
      "\u001b[?25hInstalling collected packages: pillow\n",
      "Successfully installed pillow-10.4.0\n"
     ]
    }
   ],
   "source": [
    "!pip install pillow"
   ]
  },
  {
   "cell_type": "code",
   "execution_count": 9,
   "metadata": {},
   "outputs": [],
   "source": [
    "from PIL import Image\n",
    "\n",
    "# Open the base image\n",
    "base_image = Image.open(\"assets/semevalserio.png\")\n",
    "\n",
    "# Calculate new width and height\n",
    "base_width, base_height = base_image.size\n",
    "width = base_height // 3\n",
    "height = base_height // 3\n",
    "\n",
    "# Open the images to be superposed\n",
    "overlay_image1 = Image.open(\"assets/logos/cardiff.png\")\n",
    "overlay_image2 = Image.open(\"assets/logos/gx.png\").convert(\"RGBA\")\n",
    "datas = overlay_image2.getdata()\n",
    "\n",
    "newData = []\n",
    "for item in datas:\n",
    "    # Change all white (also shades of whites)\n",
    "    # pixels to transparent\n",
    "    if item[0] > 150 and item[1] > 150 and item[2] > 150 and item[3] > 150:\n",
    "        newData.append((255, 255, 255, 0))\n",
    "    else:\n",
    "        newData.append(item)\n",
    "\n",
    "overlay_image2.putdata(newData)\n",
    "overlay_image3 = Image.open(\"assets/logos/uja.png\")\n",
    "\n",
    "# Resize overlay images\n",
    "overlay_image1 = overlay_image1.resize((width, height))\n",
    "overlay_image2 = overlay_image2.resize((overlay_image2.width // 2, overlay_image2.height // 2))\n",
    "overlay_image3 = overlay_image3.resize((width, height))\n",
    "\n",
    "# Calculate positions for the images to the left and center in height\n",
    "x1 = 160 + 0\n",
    "y1 = (base_height - overlay_image1.height) // 2\n",
    "x2 = 160 + overlay_image1.width + 20\n",
    "y2 = (base_height - overlay_image2.height) // 2\n",
    "x3 = 130 + overlay_image1.width + overlay_image2.width\n",
    "y3 = (base_height - overlay_image3.height) // 2\n",
    "# Superpose the images\n",
    "base_image.paste(overlay_image1, (x1, y1), overlay_image1)\n",
    "base_image.paste(overlay_image2, (x2, y2), overlay_image2)\n",
    "base_image.paste(overlay_image3, (x3, y3), overlay_image3)\n",
    "\n",
    "# Save the result\n",
    "base_image.save(\"assets/superposed_image.png\")\n"
   ]
  }
 ],
 "metadata": {
  "kernelspec": {
   "display_name": "base",
   "language": "python",
   "name": "python3"
  },
  "language_info": {
   "codemirror_mode": {
    "name": "ipython",
    "version": 3
   },
   "file_extension": ".py",
   "mimetype": "text/x-python",
   "name": "python",
   "nbconvert_exporter": "python",
   "pygments_lexer": "ipython3",
   "version": "3.10.12"
  }
 },
 "nbformat": 4,
 "nbformat_minor": 2
}
